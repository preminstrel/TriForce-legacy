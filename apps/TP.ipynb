{
 "cells": [
  {
   "cell_type": "code",
   "execution_count": 7,
   "metadata": {},
   "outputs": [],
   "source": [
    "import os\n",
    "import torch.multiprocessing as mp\n",
    "import torch.distributed as dist\n",
    "import torch\n",
    "\n",
    "def distributed_init():\n",
    "\n",
    "    dist.init_process_group(backend=\"nccl\")\n",
    "    local_rank = dist.get_rank()\n",
    "    world_size = dist.get_world_size()\n",
    "    torch.cuda.set_device(local_rank)\n",
    "\n",
    "    return local_rank, world_size"
   ]
  },
  {
   "cell_type": "code",
   "execution_count": 8,
   "metadata": {},
   "outputs": [],
   "source": [
    "def find_free_port():\n",
    "    \"\"\" https://stackoverflow.com/questions/1365265/on-localhost-how-do-i-pick-a-free-port-number \"\"\"\n",
    "    import socket\n",
    "    from contextlib import closing\n",
    "\n",
    "    with closing(socket.socket(socket.AF_INET, socket.SOCK_STREAM)) as s:\n",
    "        s.bind(('', 0))\n",
    "        s.setsockopt(socket.SOL_SOCKET, socket.SO_REUSEADDR, 1)\n",
    "        return str(s.getsockname()[1])"
   ]
  },
  {
   "cell_type": "code",
   "execution_count": 12,
   "metadata": {},
   "outputs": [],
   "source": [
    "world_size = 2\n",
    "master_addr = '127.0.0.1'\n",
    "master_port = find_free_port()"
   ]
  },
  {
   "cell_type": "code",
   "execution_count": 13,
   "metadata": {},
   "outputs": [
    {
     "data": {
      "text/plain": [
       "'57727'"
      ]
     },
     "execution_count": 13,
     "metadata": {},
     "output_type": "execute_result"
    }
   ],
   "source": [
    "master_port"
   ]
  },
  {
   "cell_type": "code",
   "execution_count": null,
   "metadata": {},
   "outputs": [],
   "source": [
    "from datetime import timedelta\n",
    "\n",
    "rank = 0\n",
    "backend = 'nccl'\n",
    "\n",
    "print(f'setting up {rank=} {world_size=} {backend=}')\n",
    "\n",
    "# set up the master's ip address so this child process can coordinate\n",
    "os.environ['MASTER_ADDR'] = master_addr\n",
    "os.environ['MASTER_PORT'] = master_port\n",
    "print(f\"{master_addr=} {master_port=}\")\n",
    "\n",
    "# Initializes the default distributed process group, and this will also initialize the distributed package.\n",
    "dist.init_process_group(backend, rank=rank, world_size=world_size, timeout=timedelta(seconds=30), init_method=\"env://\")\n",
    "print(f\"{rank=} init complete\")\n",
    "dist.destroy_process_group()\n",
    "print(f\"{rank=} destroy complete\")"
   ]
  },
  {
   "cell_type": "code",
   "execution_count": null,
   "metadata": {},
   "outputs": [],
   "source": [
    "CUDA_VISIBLE_DEVICES=6,7 OMP_NUM_THREADS=48 torchrun --nproc_per_node=2 test/TP_baseline.py"
   ]
  }
 ],
 "metadata": {
  "kernelspec": {
   "display_name": "torch",
   "language": "python",
   "name": "python3"
  },
  "language_info": {
   "codemirror_mode": {
    "name": "ipython",
    "version": 3
   },
   "file_extension": ".py",
   "mimetype": "text/x-python",
   "name": "python",
   "nbconvert_exporter": "python",
   "pygments_lexer": "ipython3",
   "version": "3.9.18"
  }
 },
 "nbformat": 4,
 "nbformat_minor": 2
}
