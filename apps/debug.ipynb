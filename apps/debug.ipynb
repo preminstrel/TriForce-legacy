{
 "cells": [
  {
   "cell_type": "code",
   "execution_count": 1,
   "metadata": {},
   "outputs": [
    {
     "name": "stdout",
     "output_type": "stream",
     "text": [
      "added /home/hanshis/workspace/LongContextInfer to sys.path\n"
     ]
    },
    {
     "data": {
      "application/vnd.jupyter.widget-view+json": {
       "model_id": "99bfbe61ac0a41ce85cf8b7cdf4ab545",
       "version_major": 2,
       "version_minor": 0
      },
      "text/plain": [
       "Loading checkpoint shards:   0%|          | 0/2 [00:00<?, ?it/s]"
      ]
     },
     "metadata": {},
     "output_type": "display_data"
    }
   ],
   "source": [
    "import os\n",
    "import sys\n",
    "root_dir = '/home/hanshis/workspace/LongContextInfer'\n",
    "sys.path.append(root_dir)\n",
    "\n",
    "print(f\"added {root_dir} to sys.path\")\n",
    "\n",
    "import torch\n",
    "from transformers import AutoTokenizer\n",
    "from termcolor import colored\n",
    "\n",
    "from models.modeling_llama_torch import LlamaForCausalLM\n",
    "from models.cache_utils import SimpleCache, EvictStreamLLMCache, StreamLLMCache\n",
    "from utils.decoding import Evict_Spec_cache\n",
    "from utils.misc import print_config\n",
    "\n",
    "draft = LlamaForCausalLM.from_pretrained(\"NousResearch/Yarn-Llama-2-7b-128k\", torch_dtype=torch.float16, device_map=\"cuda:0\")\n",
    "draft_cache = EvictStreamLLMCache(draft, start_size=16, recent_size=1000-16)"
   ]
  },
  {
   "cell_type": "code",
   "execution_count": 2,
   "metadata": {},
   "outputs": [],
   "source": [
    "prompt = \"\"\"The Carnegie Technical Schools were founded in 1900 in Pittsburgh, Pennsylvania[19] by the Scottish-American industrialist and philanthropist Andrew Carnegie, who wrote \"My heart is in the work\", when he donated the funds to create the institution. Carnegie's vision was to open a vocational training school for the sons and daughters of working-class Pittsburghers, many of whom worked in his mills. Carnegie was inspired for the design of his school by the Pratt Institute in Brooklyn, New York, founded by industrialist Charles Pratt in 1887.[20] In 1912, the institution changed its name to Carnegie Institute of Technology (CIT) and began offering four-year degrees. During this time, CIT consisted of four constituent schools: the School of Fine and Applied Arts, the School of Apprentices and Journeymen, the School of Science and Technology, and the Margaret Morrison Carnegie School for Women.\n",
    "\n",
    "The Mellon Institute of Industrial Research was founded in 1913 by banker and industrialist brothers Andrew Mellon (who went on to become U.S. Treasury Secretary) and Richard B. Mellon in honor of their father, Thomas Mellon, patriarch of the Mellon family. The Institute began as a research organization which performed work for government and industry on a contract basis and was initially established as a department within the University of Pittsburgh. In 1927, the Mellon Institute was incorporated as an independent nonprofit. In 1937, the Mellon Institute's iconic building was completed at its current location on Fifth Avenue.[21]\n",
    "\n",
    "In 1967, with support from Paul Mellon, the Carnegie Institute of Technology merged with the Mellon Institute of Industrial Research to become Carnegie Mellon University. In 1973, Carnegie Mellon's coordinate women's college, the Margaret Morrison Carnegie College, merged its academic programs with the rest of the university.[22] The industrial research mission of the Mellon Institute survived the merger as the Carnegie Mellon Research Institute (CMRI) and continued doing work on contract to industry and government. In 2001, CMRI's programs were subsumed by other parts of the university or spun off into autonomous entities.[23]\n",
    "\n",
    "Carnegie Mellon's 157.2 acre (63 ha) main campus is five miles (8 km) from downtown Pittsburgh, between Schenley Park and the neighborhoods of Squirrel Hill, Shadyside, and Oakland.[5] Carnegie Mellon is bordered to the west by the campus of the University of Pittsburgh. Carnegie Mellon owns 81 buildings in the Oakland and Squirrel Hill neighborhoods of Pittsburgh.\n",
    "\n",
    "For decades, the center of student life on campus was Skibo Hall, the university's student union. Built in the 1950s, Skibo Hall's design was typical of mid-century modern architecture but was poorly equipped to deal with advances in computer and internet connectivity. The original Skibo Hall was razed in the summer of 1994 and replaced by a new student union that is fully Wi-Fi enabled. Known as the University Center, the building was dedicated in 1996. In 2014, Carnegie Mellon re-dedicated the University Center as the Cohon University Center in recognition of the eighth president of the university, Jared Cohon.[24]\n",
    "\n",
    "A large grassy area known as \"The Cut\" forms the backbone of the campus, with a separate grassy area known as \"The Mall\" running perpendicular. The Cut was formed by filling in a ravine (hence the name) with soil from a nearby hill that was leveled to build the College of Fine Arts building.\n",
    "\n",
    "The northwestern part of the campus (home to Hamburg Hall, Newell-Simon Hall, Smith Hall, and Gates Hillman Complex) was acquired from the United States Bureau of Mines in the 1980s.\n",
    "\n",
    "Carnegie Mellon has been purchasing 100% renewable energy for its electricity since 2011.[25] The campus began to take shape in the Beaux-Arts architecture style of George Carnegie Palmer and Henry Hornbostel of Palmer & Hornbostel, winners of the 1904 competition to design the original institution and later the founder of what is now the Carnegie Mellon School of Architecture.[26]\n",
    "\n",
    "There was little change to the campus between the first and second World War. A 1938 master plan by Githens and Keally suggested acquisition of new land along Forbes Avenue, but the plan was not fully implemented. The period starting with the construction of the Hall of the Arts building (former home of the Graduate School of Industrial Administration) in 1952 and ending with Wean Hall in 1971 saw the institutional change from Carnegie Institute of Technology to Carnegie Mellon University. New facilities were needed to respond to the university's growing national reputation in artificial intelligence, business, robotics and the arts. In addition, an expanding student population resulted in a need for improved facilities for student life, athletics and libraries. The campus finally expanded to Forbes Avenue from its original land along Schenley Park. A ravine long known as \"The Cut\" was initially filled in to campus level, joining \"The Mall\" as a major campus open space.\n",
    "\"\"\"\n",
    "tokenizer = AutoTokenizer.from_pretrained(\"NousResearch/Yarn-Llama-2-7b-128k\")\n",
    "input_ids = tokenizer.encode(prompt, return_tensors=\"pt\").to(draft.device)"
   ]
  },
  {
   "cell_type": "code",
   "execution_count": 3,
   "metadata": {},
   "outputs": [
    {
     "data": {
      "text/plain": [
       "torch.Size([1, 1286])"
      ]
     },
     "execution_count": 3,
     "metadata": {},
     "output_type": "execute_result"
    }
   ],
   "source": [
    "input_ids.shape"
   ]
  },
  {
   "cell_type": "code",
   "execution_count": 4,
   "metadata": {},
   "outputs": [],
   "source": [
    "import math\n",
    "input_ids = input_ids[:, :1000]\n",
    "iter_prefill = math.ceil(input_ids.shape[1] / 100)\n",
    "for i in (range(iter_prefill)):\n",
    "    draft_cache.evict(100)\n",
    "    outputs_draft = draft(\n",
    "        input_ids=input_ids[:, i*100:(i+1)*100].to(draft.device),\n",
    "        past_key_values=draft_cache,\n",
    "    )"
   ]
  },
  {
   "cell_type": "code",
   "execution_count": 5,
   "metadata": {},
   "outputs": [],
   "source": [
    "a = draft_cache.key_cache[16].clone()"
   ]
  },
  {
   "cell_type": "code",
   "execution_count": 6,
   "metadata": {},
   "outputs": [
    {
     "data": {
      "text/plain": [
       "999"
      ]
     },
     "execution_count": 6,
     "metadata": {},
     "output_type": "execute_result"
    }
   ],
   "source": [
    "draft_cache.evict(1)\n",
    "draft_cache.seq_len"
   ]
  },
  {
   "cell_type": "code",
   "execution_count": 7,
   "metadata": {},
   "outputs": [
    {
     "data": {
      "text/plain": [
       "torch.Size([32, 16, 128])"
      ]
     },
     "execution_count": 7,
     "metadata": {},
     "output_type": "execute_result"
    }
   ],
   "source": [
    "draft_cache.key_cache[16][0][:,:16].shape"
   ]
  },
  {
   "cell_type": "code",
   "execution_count": 8,
   "metadata": {},
   "outputs": [
    {
     "data": {
      "text/plain": [
       "torch.Size([16, 128])"
      ]
     },
     "execution_count": 8,
     "metadata": {},
     "output_type": "execute_result"
    }
   ],
   "source": [
    "draft_cache.key_cache[16][0][0][:16].shape"
   ]
  },
  {
   "cell_type": "code",
   "execution_count": 9,
   "metadata": {},
   "outputs": [
    {
     "data": {
      "text/plain": [
       "True"
      ]
     },
     "execution_count": 9,
     "metadata": {},
     "output_type": "execute_result"
    }
   ],
   "source": [
    "torch.allclose(a[0][i][:16], draft_cache.key_cache[16][0][i][:16])"
   ]
  },
  {
   "cell_type": "code",
   "execution_count": 10,
   "metadata": {},
   "outputs": [
    {
     "data": {
      "text/plain": [
       "torch.Size([983, 128])"
      ]
     },
     "execution_count": 10,
     "metadata": {},
     "output_type": "execute_result"
    }
   ],
   "source": [
    "a[0][i][17:].shape"
   ]
  },
  {
   "cell_type": "code",
   "execution_count": 11,
   "metadata": {},
   "outputs": [
    {
     "data": {
      "text/plain": [
       "torch.Size([983, 128])"
      ]
     },
     "execution_count": 11,
     "metadata": {},
     "output_type": "execute_result"
    }
   ],
   "source": [
    "draft_cache.key_cache[16][0][i][16:-1].shape"
   ]
  },
  {
   "cell_type": "code",
   "execution_count": 12,
   "metadata": {},
   "outputs": [
    {
     "data": {
      "text/plain": [
       "False"
      ]
     },
     "execution_count": 12,
     "metadata": {},
     "output_type": "execute_result"
    }
   ],
   "source": [
    "torch.allclose(a[0][i][17], draft_cache.key_cache[16][0][i][16])"
   ]
  },
  {
   "cell_type": "code",
   "execution_count": 13,
   "metadata": {},
   "outputs": [
    {
     "data": {
      "text/plain": [
       "torch.Size([983, 128])"
      ]
     },
     "execution_count": 13,
     "metadata": {},
     "output_type": "execute_result"
    }
   ],
   "source": [
    "a[0][i][17:].shape"
   ]
  },
  {
   "cell_type": "code",
   "execution_count": 14,
   "metadata": {},
   "outputs": [
    {
     "ename": "AssertionError",
     "evalue": "i=0, 3 [recent]",
     "output_type": "error",
     "traceback": [
      "\u001b[0;31m---------------------------------------------------------------------------\u001b[0m",
      "\u001b[0;31mAssertionError\u001b[0m                            Traceback (most recent call last)",
      "Cell \u001b[0;32mIn[14], line 4\u001b[0m\n\u001b[1;32m      2\u001b[0m \u001b[38;5;28;01massert\u001b[39;00m torch\u001b[38;5;241m.\u001b[39mallclose(a[\u001b[38;5;241m0\u001b[39m][i][:\u001b[38;5;241m16\u001b[39m], draft_cache\u001b[38;5;241m.\u001b[39mkey_cache[\u001b[38;5;241m16\u001b[39m][\u001b[38;5;241m0\u001b[39m][i][:\u001b[38;5;241m16\u001b[39m]), \u001b[38;5;124mf\u001b[39m\u001b[38;5;124m\"\u001b[39m\u001b[38;5;124mi=\u001b[39m\u001b[38;5;132;01m{\u001b[39;00mi\u001b[38;5;132;01m}\u001b[39;00m\u001b[38;5;124m [sink]\u001b[39m\u001b[38;5;124m\"\u001b[39m\n\u001b[1;32m      3\u001b[0m \u001b[38;5;28;01mfor\u001b[39;00m j \u001b[38;5;129;01min\u001b[39;00m \u001b[38;5;28mrange\u001b[39m(\u001b[38;5;241m983\u001b[39m):\n\u001b[0;32m----> 4\u001b[0m     \u001b[38;5;28;01massert\u001b[39;00m torch\u001b[38;5;241m.\u001b[39mallclose(a[\u001b[38;5;241m0\u001b[39m][i][\u001b[38;5;241m17\u001b[39m\u001b[38;5;241m+\u001b[39mj], draft_cache\u001b[38;5;241m.\u001b[39mkey_cache[\u001b[38;5;241m16\u001b[39m][\u001b[38;5;241m0\u001b[39m][i][\u001b[38;5;241m16\u001b[39m\u001b[38;5;241m+\u001b[39mj]), \u001b[38;5;124mf\u001b[39m\u001b[38;5;124m\"\u001b[39m\u001b[38;5;124mi=\u001b[39m\u001b[38;5;132;01m{\u001b[39;00mi\u001b[38;5;132;01m}\u001b[39;00m\u001b[38;5;124m, \u001b[39m\u001b[38;5;132;01m{\u001b[39;00mj\u001b[38;5;132;01m}\u001b[39;00m\u001b[38;5;124m [recent]\u001b[39m\u001b[38;5;124m\"\u001b[39m\n",
      "\u001b[0;31mAssertionError\u001b[0m: i=0, 3 [recent]"
     ]
    }
   ],
   "source": [
    "for i in range(32):\n",
    "    assert torch.allclose(a[0][i][:16], draft_cache.key_cache[16][0][i][:16]), f\"i={i} [sink]\"\n",
    "    for j in range(983):\n",
    "        assert torch.allclose(a[0][i][17+j], draft_cache.key_cache[16][0][i][16+j]), f\"i={i}, {j} [recent]\""
   ]
  },
  {
   "cell_type": "code",
   "execution_count": null,
   "metadata": {},
   "outputs": [],
   "source": []
  },
  {
   "cell_type": "code",
   "execution_count": 19,
   "metadata": {},
   "outputs": [
    {
     "data": {
      "text/plain": [
       "tensor([[[ 4.2816e-02, -2.0355e-02,  1.7105e-02,  ..., -4.0234e-01,\n",
       "           2.8418e-01, -1.6980e-01],\n",
       "         [-8.8623e-01, -9.2090e-01, -5.6445e-01,  ..., -6.4355e-01,\n",
       "          -7.1973e-01,  1.7451e+00],\n",
       "         [-5.4883e-01, -1.3184e-01, -1.8250e-01,  ..., -9.5850e-01,\n",
       "          -8.3887e-01,  1.3867e+00],\n",
       "         ...,\n",
       "         [-7.6660e-01,  2.6392e-01, -7.0605e-01,  ...,  5.6348e-01,\n",
       "          -1.2832e+00,  5.8691e-01],\n",
       "         [-8.9111e-01, -1.7236e-01, -6.1523e-01,  ...,  7.0068e-01,\n",
       "          -8.4668e-01,  2.8320e-01],\n",
       "         [-6.2158e-01, -3.9551e-01, -8.9307e-01,  ...,  2.0449e+00,\n",
       "          -1.4971e+00,  4.2261e-01]],\n",
       "\n",
       "        [[-3.0075e-02,  8.6670e-03,  9.3603e-04,  ..., -5.8008e-01,\n",
       "          -7.1240e-01, -2.3181e-01],\n",
       "         [ 5.6738e-01,  3.9575e-01, -2.9810e-01,  ..., -3.3223e+00,\n",
       "           4.4849e-01,  8.5693e-01],\n",
       "         [ 5.8984e-01,  1.6406e-01, -2.2964e-02,  ..., -2.5449e+00,\n",
       "           2.0117e+00,  3.4160e+00],\n",
       "         ...,\n",
       "         [ 3.2251e-01,  1.0342e+00, -5.7275e-01,  ...,  2.3867e+00,\n",
       "           1.0635e+00,  8.0811e-01],\n",
       "         [ 1.4294e-01,  6.8945e-01, -2.1399e-01,  ...,  1.0176e+00,\n",
       "           1.0254e+00, -5.5273e-01],\n",
       "         [ 4.4434e-01,  3.6670e-01, -2.7661e-01,  ...,  6.6455e-01,\n",
       "           1.8213e+00,  2.4121e-01]],\n",
       "\n",
       "        [[ 1.9714e-02, -4.1351e-03,  1.6281e-02,  ..., -1.3013e-01,\n",
       "           8.5266e-02,  3.5840e-01],\n",
       "         [-2.7808e-01,  9.4910e-02, -1.6394e-01,  ..., -1.5029e+00,\n",
       "           1.6641e+00, -1.4092e+00],\n",
       "         [-1.1494e+00,  1.4758e-01,  6.5918e-01,  ...,  1.1113e+00,\n",
       "           1.4873e+00, -3.1714e-01],\n",
       "         ...,\n",
       "         [-7.3096e-01, -6.8176e-02, -9.3811e-02,  ..., -9.6069e-02,\n",
       "           9.4727e-01,  1.2305e+00],\n",
       "         [-5.4590e-01, -3.3496e-01, -1.7371e-01,  ..., -2.7905e-01,\n",
       "           1.2441e+00,  1.1157e-01],\n",
       "         [-5.0488e-01,  4.4824e-01,  5.1636e-02,  ...,  1.1871e-01,\n",
       "           1.4746e-01, -7.3389e-01]],\n",
       "\n",
       "        ...,\n",
       "\n",
       "        [[ 8.0200e-02, -1.2650e-02, -1.6068e-02,  ..., -4.1602e-01,\n",
       "          -8.8989e-02,  3.8062e-01],\n",
       "         [ 1.5039e-01,  5.9717e-01,  5.9619e-01,  ...,  2.0566e+00,\n",
       "          -1.4219e+00, -3.4961e+00],\n",
       "         [ 1.1993e-01,  3.3472e-01,  6.7480e-01,  ...,  1.1377e+00,\n",
       "          -8.7695e-01, -3.4453e+00],\n",
       "         ...,\n",
       "         [ 2.5650e-02,  1.3412e-02,  6.4636e-02,  ...,  1.7695e+00,\n",
       "          -7.0459e-01, -1.5596e+00],\n",
       "         [ 9.6497e-02,  3.5474e-01,  5.7129e-01,  ...,  2.3301e+00,\n",
       "           9.8206e-02, -1.7422e+00],\n",
       "         [-1.0565e-01, -5.8075e-02,  4.5190e-01,  ...,  1.5566e+00,\n",
       "          -3.7329e-01, -1.7441e+00]],\n",
       "\n",
       "        [[ 6.3944e-04,  1.2581e-02,  3.7109e-02,  ...,  7.5537e-01,\n",
       "           3.7964e-01, -2.2969e+00],\n",
       "         [ 5.1611e-01,  3.2520e-01, -3.1708e-02,  ...,  4.0063e-01,\n",
       "          -3.0215e+00,  3.0352e+00],\n",
       "         [ 5.6885e-01,  2.2736e-02,  4.5349e-02,  ..., -8.1250e-01,\n",
       "          -1.5271e-01,  3.2773e+00],\n",
       "         ...,\n",
       "         [ 4.8730e-01,  7.7759e-02, -1.9763e-01,  ..., -4.2461e+00,\n",
       "          -1.6348e+00,  3.8828e+00],\n",
       "         [ 2.7490e-01, -7.1472e-02, -1.6956e-01,  ..., -4.0625e+00,\n",
       "          -2.1445e+00,  5.0078e+00],\n",
       "         [ 3.9673e-01,  1.1188e-01,  1.4087e-01,  ..., -3.3047e+00,\n",
       "          -1.3408e+00,  4.6133e+00]],\n",
       "\n",
       "        [[ 1.3933e-03,  5.8794e-04,  3.3630e-02,  ...,  2.8613e-01,\n",
       "          -1.5210e-01, -9.3201e-02],\n",
       "         [ 2.8931e-01, -6.3428e-01,  1.6150e-01,  ...,  8.6865e-01,\n",
       "          -1.2393e+00, -2.9785e-01],\n",
       "         [ 5.6934e-01, -1.8335e-01,  2.4121e-01,  ..., -1.0651e-01,\n",
       "          -1.0410e+00,  1.7109e+00],\n",
       "         ...,\n",
       "         [ 1.2335e-01,  2.8833e-01, -3.3130e-01,  ..., -1.6738e+00,\n",
       "           3.5547e-01,  3.1641e-01],\n",
       "         [ 2.4878e-01,  1.8457e-01, -6.1621e-01,  ..., -1.4219e+00,\n",
       "           2.8052e-01,  6.0986e-01],\n",
       "         [ 5.1953e-01,  1.1334e-01, -9.8193e-01,  ..., -1.6436e+00,\n",
       "           9.5605e-01,  1.4590e+00]]], device='cuda:1', dtype=torch.float16,\n",
       "       grad_fn=<SelectBackward0>)"
      ]
     },
     "execution_count": 19,
     "metadata": {},
     "output_type": "execute_result"
    }
   ],
   "source": [
    "a[0]"
   ]
  },
  {
   "cell_type": "code",
   "execution_count": null,
   "metadata": {},
   "outputs": [],
   "source": [
    "size_keep = self.recent_size - incoming\n",
    "self.key_cache[layer_idx][:, :, self.start_size:-incoming] = self.key_cache[layer_idx][:, :, self.seq_len-size_keep:self.seq_len]\n",
    "self.value_cache[layer_idx][:, :, self.start_size:-incoming] = self.value_cache[layer_idx][:, :, self.seq_len-size_keep:self.seq_len]"
   ]
  },
  {
   "cell_type": "code",
   "execution_count": 20,
   "metadata": {},
   "outputs": [
    {
     "data": {
      "text/plain": [
       "tensor([[[ 4.2816e-02, -2.0355e-02,  1.7105e-02,  ..., -4.0234e-01,\n",
       "           2.8418e-01, -1.6980e-01],\n",
       "         [-8.8623e-01, -9.2090e-01, -5.6445e-01,  ..., -6.4355e-01,\n",
       "          -7.1973e-01,  1.7451e+00],\n",
       "         [-5.4883e-01, -1.3184e-01, -1.8250e-01,  ..., -9.5850e-01,\n",
       "          -8.3887e-01,  1.3867e+00],\n",
       "         ...,\n",
       "         [-8.9111e-01, -1.7236e-01, -6.1523e-01,  ...,  7.0068e-01,\n",
       "          -8.4668e-01,  2.8320e-01],\n",
       "         [-6.2158e-01, -3.9551e-01, -8.9307e-01,  ...,  2.0449e+00,\n",
       "          -1.4971e+00,  4.2261e-01],\n",
       "         [-6.2158e-01, -3.9551e-01, -8.9307e-01,  ...,  2.0449e+00,\n",
       "          -1.4971e+00,  4.2261e-01]],\n",
       "\n",
       "        [[-3.0075e-02,  8.6670e-03,  9.3603e-04,  ..., -5.8008e-01,\n",
       "          -7.1240e-01, -2.3181e-01],\n",
       "         [ 5.6738e-01,  3.9575e-01, -2.9810e-01,  ..., -3.3223e+00,\n",
       "           4.4849e-01,  8.5693e-01],\n",
       "         [ 5.8984e-01,  1.6406e-01, -2.2964e-02,  ..., -2.5449e+00,\n",
       "           2.0117e+00,  3.4160e+00],\n",
       "         ...,\n",
       "         [ 1.4294e-01,  6.8945e-01, -2.1399e-01,  ...,  1.0176e+00,\n",
       "           1.0254e+00, -5.5273e-01],\n",
       "         [ 4.4434e-01,  3.6670e-01, -2.7661e-01,  ...,  6.6455e-01,\n",
       "           1.8213e+00,  2.4121e-01],\n",
       "         [ 4.4434e-01,  3.6670e-01, -2.7661e-01,  ...,  6.6455e-01,\n",
       "           1.8213e+00,  2.4121e-01]],\n",
       "\n",
       "        [[ 1.9714e-02, -4.1351e-03,  1.6281e-02,  ..., -1.3013e-01,\n",
       "           8.5266e-02,  3.5840e-01],\n",
       "         [-2.7808e-01,  9.4910e-02, -1.6394e-01,  ..., -1.5029e+00,\n",
       "           1.6641e+00, -1.4092e+00],\n",
       "         [-1.1494e+00,  1.4758e-01,  6.5918e-01,  ...,  1.1113e+00,\n",
       "           1.4873e+00, -3.1714e-01],\n",
       "         ...,\n",
       "         [-5.0488e-01,  4.4824e-01,  5.1636e-02,  ...,  1.1871e-01,\n",
       "           1.4746e-01, -7.3389e-01],\n",
       "         [-5.0488e-01,  4.4824e-01,  5.1636e-02,  ...,  1.1871e-01,\n",
       "           1.4746e-01, -7.3389e-01],\n",
       "         [-5.0488e-01,  4.4824e-01,  5.1636e-02,  ...,  1.1871e-01,\n",
       "           1.4746e-01, -7.3389e-01]],\n",
       "\n",
       "        ...,\n",
       "\n",
       "        [[ 8.0200e-02, -1.2650e-02, -1.6068e-02,  ..., -4.1602e-01,\n",
       "          -8.8989e-02,  3.8062e-01],\n",
       "         [ 1.5039e-01,  5.9717e-01,  5.9619e-01,  ...,  2.0566e+00,\n",
       "          -1.4219e+00, -3.4961e+00],\n",
       "         [ 1.1993e-01,  3.3472e-01,  6.7480e-01,  ...,  1.1377e+00,\n",
       "          -8.7695e-01, -3.4453e+00],\n",
       "         ...,\n",
       "         [ 9.6497e-02,  3.5474e-01,  5.7129e-01,  ...,  2.3301e+00,\n",
       "           9.8206e-02, -1.7422e+00],\n",
       "         [-1.0565e-01, -5.8075e-02,  4.5190e-01,  ...,  1.5566e+00,\n",
       "          -3.7329e-01, -1.7441e+00],\n",
       "         [-1.0565e-01, -5.8075e-02,  4.5190e-01,  ...,  1.5566e+00,\n",
       "          -3.7329e-01, -1.7441e+00]],\n",
       "\n",
       "        [[ 6.3944e-04,  1.2581e-02,  3.7109e-02,  ...,  7.5537e-01,\n",
       "           3.7964e-01, -2.2969e+00],\n",
       "         [ 5.1611e-01,  3.2520e-01, -3.1708e-02,  ...,  4.0063e-01,\n",
       "          -3.0215e+00,  3.0352e+00],\n",
       "         [ 5.6885e-01,  2.2736e-02,  4.5349e-02,  ..., -8.1250e-01,\n",
       "          -1.5271e-01,  3.2773e+00],\n",
       "         ...,\n",
       "         [ 3.9673e-01,  1.1188e-01,  1.4087e-01,  ..., -3.3047e+00,\n",
       "          -1.3408e+00,  4.6133e+00],\n",
       "         [ 3.9673e-01,  1.1188e-01,  1.4087e-01,  ..., -3.3047e+00,\n",
       "          -1.3408e+00,  4.6133e+00],\n",
       "         [ 3.9673e-01,  1.1188e-01,  1.4087e-01,  ..., -3.3047e+00,\n",
       "          -1.3408e+00,  4.6133e+00]],\n",
       "\n",
       "        [[ 1.3933e-03,  5.8794e-04,  3.3630e-02,  ...,  2.8613e-01,\n",
       "          -1.5210e-01, -9.3201e-02],\n",
       "         [ 2.8931e-01, -6.3428e-01,  1.6150e-01,  ...,  8.6865e-01,\n",
       "          -1.2393e+00, -2.9785e-01],\n",
       "         [ 5.6934e-01, -1.8335e-01,  2.4121e-01,  ..., -1.0651e-01,\n",
       "          -1.0410e+00,  1.7109e+00],\n",
       "         ...,\n",
       "         [ 2.4878e-01,  1.8457e-01, -6.1621e-01,  ..., -1.4219e+00,\n",
       "           2.8052e-01,  6.0986e-01],\n",
       "         [ 5.1953e-01,  1.1334e-01, -9.8193e-01,  ..., -1.6436e+00,\n",
       "           9.5605e-01,  1.4590e+00],\n",
       "         [ 5.1953e-01,  1.1334e-01, -9.8193e-01,  ..., -1.6436e+00,\n",
       "           9.5605e-01,  1.4590e+00]]], device='cuda:1', dtype=torch.float16,\n",
       "       grad_fn=<SelectBackward0>)"
      ]
     },
     "execution_count": 20,
     "metadata": {},
     "output_type": "execute_result"
    }
   ],
   "source": [
    "draft_cache.key_cache[16][0]"
   ]
  },
  {
   "cell_type": "code",
   "execution_count": null,
   "metadata": {},
   "outputs": [],
   "source": []
  },
  {
   "cell_type": "code",
   "execution_count": 5,
   "metadata": {},
   "outputs": [
    {
     "name": "stdout",
     "output_type": "stream",
     "text": [
      "\u001b[34mIn\u001b[0m \u001b[34mthe\u001b[0m \u001b[34mearly\u001b[0m \u001b[34m\u001b[0m \u001b[34m1\u001b[0m \u001b[34m9\u001b[0m \u001b[34m6\u001b[0m \u001b[34m0\u001b[0m \u001b[34ms\u001b[0m \u001b[34m,\u001b[0m \u001b[34mthe\u001b[0m \u001b[34muniversity\u001b[0m \u001b[34madded\u001b[0m \u001b[34mthe\u001b[0m \u001b[34mScott\u001b[0m \u001b[34mHall\u001b[0m \u001b[34m,\u001b[0m \u001b[34ma\u001b[0m \u001b[34mstudent\u001b[0m \u001b[34mresidence\u001b[0m \u001b[34m,\u001b[0m \u001b[34mas\u001b[0m \u001b[34mwell\u001b[0m \u001b[34mas\u001b[0m \u001b[34mthe\u001b[0m \u001b[34mMiller\u001b[0m \u001b[34mHall\u001b[0m \u001b[34m,\u001b[0m \u001b[34mthe\u001b[0m \u001b[34mfirst\u001b[0m \u001b[34mbuilding\u001b[0m \u001b[34mof\u001b[0m \u001b[34mthe\u001b[0m \u001b[34mnew\u001b[0m \u001b[34mbusiness\u001b[0m \u001b[34mschool\u001b[0m \u001b[34m.\u001b[0m \u001b[34mThe\u001b[0m \u001b[34mCollege\u001b[0m \u001b[34mof\u001b[0m \u001b[34mFine\u001b[0m \u001b[34mArts\u001b[0m \u001b[34mwas\u001b[0m \u001b[34malso\u001b[0m \u001b[34mgiven\u001b[0m \u001b[34ma\u001b[0m \u001b[34mnew\u001b[0m \u001b[34mhome\u001b[0m \u001b[34m,\u001b[0m \u001b[34mthe\u001b[0m \u001b[34mHill\u001b[0m \u001b[34mman\u001b[0m \u001b[34mLibrary\u001b[0m \u001b[34m.\u001b[0m \u001b[34mThe\u001b[0m \u001b[34mgrowth\u001b[0m \u001b[34mof\u001b[0m \u001b[34mthe\u001b[0m \u001b[34muniversity\u001b[0m \u001b[34m'\u001b[0m \u001b[34ms\u001b[0m \u001b[34mschools\u001b[0m \u001b[34mof\u001b[0m \u001b[34mcomputer\u001b[0m \u001b[34mscience\u001b[0m \u001b[34m,\u001b[0m \u001b[34minformation\u001b[0m \u001b[34msystems\u001b[0m \u001b[34m,\u001b[0m \u001b[34mand\u001b[0m \u001b[34mindustrial\u001b[0m \u001b[34mmanagement\u001b[0m \u001b[34mled\u001b[0m \u001b[34mto\u001b[0m \u001b[34mthe\u001b[0m \u001b[34mconstruction\u001b[0m \u001b[34mof\u001b[0m \u001b[34mthe\u001b[0m \u001b[34mWilliam\u001b[0m \u001b[34mHoward\u001b[0m \u001b[34mHall\u001b[0m \u001b[34mand\u001b[0m \u001b[34mthe\u001b[0m \u001b[34mWe\u001b[0m \u001b[34man\u001b[0m \u001b[34mBuilding\u001b[0m \u001b[34m.\u001b[0m \u001b[34mA\u001b[0m \u001b[34mmajor\u001b[0m \u001b[34maddition\u001b[0m \u001b[34mto\u001b[0m \u001b[34mthe\u001b[0m \u001b[34mcampus\u001b[0m \u001b[34min\u001b[0m \u001b[34mthe\u001b[0m \u001b[34m\u001b[0m \u001b[34m1\u001b[0m \u001b[34m9\u001b[0m \u001b[34m8\u001b[0m \u001b[34m0\u001b[0m \u001b[34ms\u001b[0m \u001b[34mwas\u001b[0m \u001b[34mthe\u001b[0m \u001b[34mWe\u001b[0m \u001b[34man\u001b[0m \u001b[34mScience\u001b[0m \u001b[34mBuilding\u001b[0m \u001b[34m.\u001b[0m \u001b[34m\n",
      "\u001b[0m \u001b[34m\n",
      "\u001b[0m \u001b[34mThe\u001b[0m \u001b[34mnext\u001b[0m \u001b[34mcampus\u001b[0m \u001b[34mmaster\u001b[0m \u001b[34mplan\u001b[0m \u001b[34m,\u001b[0m \u001b[34m\"\u001b[0m \u001b[34mC\u001b[0m \u001b[34marn\u001b[0m \u001b[34meg\u001b[0m \u001b[34mie\u001b[0m \u001b[34mM\u001b[0m \u001b[34mell\u001b[0m \u001b[34mon\u001b[0m \u001b[34mUniversity\u001b[0m \u001b[34m:\u001b[0m \u001b[34mA\u001b[0m \u001b[34mMaster\u001b[0m \u001b[34mPlan\u001b[0m \u001b[34m\",\u001b[0m \u001b[34mwas\u001b[0m \u001b[34mdeveloped\u001b[0m \u001b[34mby\u001b[0m \u001b[34mthe\u001b[0m \u001b[34mC\u001b[0m \u001b[34mM\u001b[0m \u001b[34mU\u001b[0m \u001b[34mOffice\u001b[0m \u001b[34mof\u001b[0m \u001b[34mPl\u001b[0m \u001b[34manning\u001b[0m \u001b[34mand\u001b[0m \u001b[34mFac\u001b[0m \u001b[34milities\u001b[0m \u001b[34mand\u001b[0m \u001b[34mapproved\u001b[0m \u001b[34mby\u001b[0m \u001b[34mthe\u001b[0m \u001b[34mBoard\u001b[0m \u001b[34mof\u001b[0m \u001b[34mTrust\u001b[0m \u001b[34mees\u001b[0m \u001b[34min\u001b[0m \u001b[34m\u001b[0m \u001b[34m2\u001b[0m \u001b[34m0\u001b[0m \u001b[34m0\u001b[0m \u001b[34m.\u001b[0m \u001b[34mIt\u001b[0m \u001b[34mincludes\u001b[0m \u001b[34m\u001b[0m \u001b[34m3\u001b[0m \u001b[34m1\u001b[0m \u001b[34macres\u001b[0m \u001b[34m,\u001b[0m \u001b[34m\u001b[0m \u001b[34m8\u001b[0m \u001b[34m5\u001b[0m \u001b[34m%\u001b[0m \u001b[34mof\u001b[0m \u001b[34mthe\u001b[0m \u001b[34mtotal\u001b[0m \u001b[34mcampus\u001b[0m \u001b[34ma\u001b[0m \u001b[34mcre\u001b[0m \u001b[34mage\u001b[0m \u001b[34m,\u001b[0m \u001b[34mand\u001b[0m \u001b[34ma\u001b[0m \u001b[34mplanned\u001b[0m \u001b[34mincrease\u001b[0m \u001b[34min\u001b[0m \u001b[34mtotal\u001b[0m \u001b[34men\u001b[0m \u001b[34mroll\u001b[0m \u001b[34mment\u001b[0m \u001b[34mfrom\u001b[0m \u001b[34m\u001b[0m \u001b[34m8\u001b[0m \u001b[34m,\u001b[0m \u001b[34m0\u001b[0m \u001b[34m0\u001b[0m \u001b[34m0\u001b[0m \u001b[34mto\u001b[0m \u001b[34m\u001b[0m \u001b[34m1\u001b[0m \u001b[34m5\u001b[0m \u001b[34m,\u001b[0m \u001b[34m0\u001b[0m \u001b[34m0\u001b[0m \u001b[34m.\u001b[0m \u001b[34m\n",
      "\u001b[0m \u001b[34m\n",
      "\u001b[0m \u001b[34mIn\u001b[0m \u001b[34m\u001b[0m \u001b[34m2\u001b[0m \u001b[34m0\u001b[0m \u001b[34m1\u001b[0m \u001b[34m0\u001b[0m \u001b[34m,\u001b[0m \u001b[34mCar\u001b[0m \u001b[34mneg\u001b[0m \u001b[34mie\u001b[0m \u001b[34mM\u001b[0m \u001b[34mell\u001b[0m \u001b[34mon\u001b[0m \u001b[34mbegan\u001b[0m \u001b[34mwork\u001b[0m \u001b[34mon\u001b[0m \u001b[34ma\u001b[0m \u001b[34m\u001b[0m \u001b[34m1\u001b[0m \u001b[34m4\u001b[0m \u001b[34m-\u001b[0m \u001b[34macre\u001b[0m \u001b[34mproject\u001b[0m \u001b[34mto\u001b[0m \u001b[34mre\u001b[0m \u001b[34mdevelop\u001b[0m \u001b[34mland\u001b[0m \u001b[34malong\u001b[0m \u001b[34mFor\u001b[0m \u001b[34mbes\u001b[0m \u001b[34mAvenue\u001b[0m \u001b[34mbetween\u001b[0m \u001b[34mMore\u001b[0m \u001b[34mwood\u001b[0m \u001b[34mAvenue\u001b[0m \u001b[34mand\u001b[0m \u001b[34mP\u001b[0m \u001b[34mink\u001b[0m \u001b[34merton\u001b[0m \u001b[34mAvenue\u001b[0m \u001b[34m.\u001b[0m \u001b[34mThe\u001b[0m \u001b[34mproject\u001b[0m \u001b[34mis\u001b[0m \u001b[34mexpected\u001b[0m \u001b[34mto\u001b[0m \u001b[34mcost\u001b[0m \u001b[34m$\u001b[0m \u001b[34m6\u001b[0m \u001b[34m0\u001b[0m \u001b[34m0\u001b[0m \u001b[34mmillion\u001b[0m \u001b[34m,\u001b[0m \u001b[34mand\u001b[0m \u001b[34mwill\u001b[0m \u001b[34minclude\u001b[0m \u001b[34mthe\u001b[0m \u001b[34mconstruction\u001b[0m \u001b[34mof\u001b[0m \u001b[34m\u001b[0m \u001b[34m1\u001b[0m \u001b[34m.\u001b[0m \u001b[34m2\u001b[0m \u001b[34mmillion\u001b[0m \u001b[34msquare\u001b[0m \u001b[34mfeet\u001b[0m \u001b[34mof\u001b[0m \u001b[34mnew\u001b[0m \u001b[34mbuildings\u001b[0m \u001b[34m,\u001b[0m \u001b[34mas\u001b[0m \u001b[34mwell\u001b[0m \u001b[34mas\u001b[0m \u001b[34mthe\u001b[0m \u001b[34mrenov\u001b[0m \u001b[34mation\u001b[0m \u001b[34mof\u001b[0m \u001b[34msome\u001b[0m \u001b[34molder\u001b[0m \u001b[34mbuildings\u001b[0m \u001b[34m.\u001b[0m \u001b[34m\n",
      "\u001b[0m \u001b[34m\n",
      "\u001b[0m \u001b[34mThe\u001b[0m \u001b[34mfirst\u001b[0m \u001b[34mbuilding\u001b[0m \u001b[34mof\u001b[0m \u001b[34mthe\u001b[0m \u001b[34mnew\u001b[0m \u001b[34mcampus\u001b[0m \u001b[34mwas\u001b[0m \u001b[34mthe\u001b[0m \u001b[34mUniversity\u001b[0m \u001b[34mCenter\u001b[0m \u001b[34m,\u001b[0m \u001b[34mwhich\u001b[0m \u001b[34mopened\u001b[0m \u001b[34min\u001b[0m \u001b[34m\u001b[0m \u001b[34m2\u001b[0m \u001b[34m0\u001b[0m \u001b[34m1\u001b[0m \u001b[34m1\u001b[0m \u001b[34m.\u001b[0m \u001b[34mThe\u001b[0m \u001b[34mnext\u001b[0m \u001b[34mbuilding\u001b[0m \u001b[34mto\u001b[0m \u001b[34mbe\u001b[0m \u001b[34mconstructed\u001b[0m \u001b[34mis\u001b[0m \u001b[34mthe\u001b[0m \u001b[34mnew\u001b[0m \u001b[34mCollege\u001b[0m \u001b[34mof\u001b[0m \u001b[34mFine\u001b[0m \u001b[34mArts\u001b[0m \u001b[34mbuilding\u001b[0m \u001b[34m,\u001b[0m \u001b[34mwhich\u001b[0m \u001b[34mis\u001b[0m \u001b[34mset\u001b[0m \u001b[34mto\u001b[0m \u001b[34mopen\u001b[0m \u001b[34min\u001b[0m \u001b[34m\u001b[0m \u001b[34m2\u001b[0m \u001b[34m0\u001b[0m \u001b[34m1\u001b[0m \u001b[34m9\u001b[0m \u001b[34m.\u001b[0m \u001b[34m\n",
      "\u001b[0m \u001b[34m\n",
      "\u001b[0m \u001b[34m\n",
      "\u001b[0m \u001b[34m#\u001b[0m \u001b[34mLand\u001b[0m \u001b[34ms\u001b[0m \u001b[34mcape\u001b[0m \u001b[34mDesign\u001b[0m \u001b[34m:\u001b[0m \u001b[34m\u001b[0m \u001b[34m1\u001b[0m \u001b[34m9\u001b[0m \u001b[34m0\u001b[0m \u001b[34m4\u001b[0m \u001b[34m-\u001b[0m \u001b[34m2\u001b[0m \u001b[34m0\u001b[0m \u001b[34m1\u001b[0m \u001b[34m9\u001b[0m \u001b[34m\n",
      "\u001b[0m \u001b[34m\n",
      "\u001b[0m \u001b[34mC\u001b[0m \u001b[34marn\u001b[0m \u001b[34meg\u001b[0m \u001b[34mie\u001b[0m \u001b[34mM\u001b[0m \u001b[34mell\u001b[0m \u001b[34mon\u001b[0m \u001b[34mUniversity\u001b[0m \u001b[34mis\u001b[0m \u001b[34ma\u001b[0m \u001b[34mvery\u001b[0m \u001b[34mactive\u001b[0m \u001b[34mcampus\u001b[0m \u001b[34m,\u001b[0m \u001b[34mwith\u001b[0m \u001b[34mstudents\u001b[0m \u001b[34m,\u001b[0m \u001b[34mfac\u001b[0m \u001b[34multy\u001b[0m \u001b[34m,\u001b[0m \u001b[34mand\u001b[0m \u001b[34mstaff\u001b[0m \u001b[34mconstantly\u001b[0m \u001b[34min\u001b[0m \u001b[34mmotion\u001b[0m \u001b[34m.\u001b[0m \u001b[34m\n",
      "\u001b[0m \u001b[34m\n",
      "\u001b[0m \u001b[34mIt\u001b[0m \u001b[34mis\u001b[0m \u001b[34malso\u001b[0m \u001b[34ma\u001b[0m \u001b[34mvery\u001b[0m \u001b[34mhistoric\u001b[0m \u001b[34mcampus\u001b[0m \u001b[34m.\u001b[0m \u001b[34mThe\u001b[0m \u001b[34mfirst\u001b[0m \u001b[34mbuildings\u001b[0m \u001b[34mon\u001b[0m \u001b[34mcampus\u001b[0m \u001b[34mwere\u001b[0m \u001b[34mbuilt\u001b[0m \u001b[34min\u001b[0m \u001b[34mthe\u001b[0m \u001b[34mlate\u001b[0m \u001b[34m\u001b[0m \u001b[34m1\u001b[0m \u001b[34m8\u001b[0m \u001b[34m0\u001b[0m \u001b[34ms\u001b[0m \u001b[34m,\u001b[0m \u001b[34mand\u001b[0m \u001b[34mthe\u001b[0m \u001b[34mfirst\u001b[0m \u001b[34mCar\u001b[0m \u001b[34mneg\u001b[0m \u001b[34mie\u001b[0m \u001b[34mTechn\u001b[0m \u001b[34mical\u001b[0m \u001b[34mSchool\u001b[0m \u001b[34mbuilding\u001b[0m \u001b[34mwas\u001b[0m \u001b[34mconstructed\u001b[0m \u001b[34min\u001b[0m \u001b[34m\u001b[0m \u001b[34m1\u001b[0m \u001b[34m9\u001b[0m \u001b[34m0\u001b[0m \u001b[34m4\u001b[0m \u001b[34m.\u001b[0m \u001b[34m\n",
      "\u001b[0m \u001b[34m\n",
      "\u001b[0m \u001b[34mIn\u001b[0m \u001b[34mthe\u001b[0m \u001b[34mearly\u001b[0m \u001b[34m\u001b[0m \u001b[34m2\u001b[0m \u001b[34m0\u001b[0m \u001b[34mth\u001b[0m \u001b[34mcentury\u001b[0m \u001b[34m,\u001b[0m \u001b[34mthe\u001b[0m \u001b[34mcampus\u001b[0m \u001b[34mwas\u001b[0m \u001b[34mdesigned\u001b[0m \u001b[34min\u001b[0m \u001b[34mthe\u001b[0m \u001b[34mBe\u001b[0m \u001b[34maux\u001b[0m \u001b[34m-\u001b[0m \u001b[34mAr\u001b[0m \u001b[34mts\u001b[0m \u001b[34mstyle\u001b[0m \u001b[34m,\u001b[0m \u001b[34mwith\u001b[0m \u001b[34mthe\u001b[0m \u001b[34mmain\u001b[0m \u001b[34mcampus\u001b[0m \u001b[34mbuildings\u001b[0m \u001b[34mgrouped\u001b[0m \u001b[34maround\u001b[0m \u001b[34mthe\u001b[0m \u001b[34mcentral\u001b[0m \u001b[34mopen\u001b[0m \u001b[34mspace\u001b[0m \u001b[34m,\u001b[0m \u001b[34m\"\u001b[0m \u001b[34mThe\u001b[0m \u001b[34mC\u001b[0m \u001b[34mut\u001b[0m \u001b[34m\",\u001b[0m \u001b[34mand\u001b[0m \u001b[34mconnected\u001b[0m \u001b[34mby\u001b[0m \u001b[34ma\u001b[0m \u001b[34mseries\u001b[0m \u001b[34mof\u001b[0m \u001b[34mpath\u001b[0m \u001b[34mways\u001b[0m \u001b[34m.\u001b[0m \u001b[34m\n",
      "\u001b[0m \u001b[34m\n",
      "\u001b[0m \u001b[34mD\u001b[0m \u001b[34muring\u001b[0m \u001b[34mthe\u001b[0m \u001b[34mlate\u001b[0m \u001b[34m\u001b[0m \u001b[34m2\u001b[0m \u001b[34m0\u001b[0m \u001b[34mth\u001b[0m \u001b[34mcentury\u001b[0m \u001b[34m,\u001b[0m \u001b[34mthe\u001b[0m \u001b[34mcampus\u001b[0m \u001b[34msaw\u001b[0m \u001b[34ma\u001b[0m \u001b[34mmajor\u001b[0m \u001b[34mexpansion\u001b[0m \u001b[34m,\u001b[0m \u001b[34mwith\u001b[0m \u001b[34ma\u001b[0m \u001b[34mnumber\u001b[0m \u001b[34mof\u001b[0m \u001b[34mbuildings\u001b[0m \u001b[34madded\u001b[0m \u001b[34mto\u001b[0m \u001b[34mthe\u001b[0m \u001b[34mmain\u001b[0m \u001b[34mcampus\u001b[0m \u001b[34m.\u001b[0m \u001b[34m\n",
      "\u001b[0m \u001b[34m\n",
      "\u001b[0m \u001b[34mT\u001b[0m \u001b[34mod\u001b[0m \u001b[34may\u001b[0m \u001b[34m,\u001b[0m \u001b[34mthe\u001b[0m \u001b[34mcampus\u001b[0m \u001b[34mis\u001b[0m \u001b[34monce\u001b[0m \u001b[34magain\u001b[0m \u001b[34munder\u001b[0m \u001b[34mgoing\u001b[0m \u001b[34ma\u001b[0m \u001b[34mmajor\u001b[0m \u001b[34mtransformation\u001b[0m \u001b[34m,\u001b[0m \u001b[34mwith\u001b[0m \u001b[34ma\u001b[0m \u001b[34mnew\u001b[0m \u001b[34mmaster\u001b[0m \u001b[34mplan\u001b[0m \u001b[34mto\u001b[0m \u001b[34mguide\u001b[0m \u001b[34mdevelopment\u001b[0m \u001b[34mof\u001b[0m \u001b[34mthe\u001b[0m \u001b[34mcampus\u001b[0m \u001b[34mfor\u001b[0m \u001b[34mthe\u001b[0m \u001b[34m\u001b[0m \u001b[34m2\u001b[0m \u001b[34m1\u001b[0m \u001b[34mst\u001b[0m \u001b[34mcentury\u001b[0m \u001b[34m.\u001b[0m \u001b[34m\n",
      "\u001b[0m \u001b[34m\n",
      "\u001b[0m \u001b[34m\n",
      "\u001b[0m \u001b[34m#\u001b[0m \u001b[34mStudent\u001b[0m \u001b[34mCenter\u001b[0m \u001b[34m\n",
      "\u001b[0m \u001b[34m\n",
      "\u001b[0m \u001b[34mThe\u001b[0m \u001b[34mfirst\u001b[0m \u001b[34mbuilding\u001b[0m \u001b[34mon\u001b[0m \u001b[34mcampus\u001b[0m \u001b[34mwas\u001b[0m \u001b[34mthe\u001b[0m \u001b[34mCar\u001b[0m \u001b[34mneg\u001b[0m \u001b[34mie\u001b[0m \u001b[34mTechn\u001b[0m \u001b[34mical\u001b[0m \u001b[34mSchool\u001b[0m \u001b[34m,\u001b[0m \u001b[34mwhich\u001b[0m \u001b[34mwas\u001b[0m \u001b[34mbuilt\u001b[0m \u001b[34min\u001b[0m \u001b[34m\u001b[0m \u001b[34m1\u001b[0m \u001b[34m9\u001b[0m \u001b[34m0\u001b[0m \u001b[34m4\u001b[0m \u001b[34m.\u001b[0m \u001b[34m\n",
      "\u001b[0m \u001b[34m\n",
      "\u001b[0m \u001b[34mThe\u001b[0m \u001b[34mCar\u001b[0m \u001b[34mneg\u001b[0m \u001b[34mie\u001b[0m \u001b[34mTechn\u001b[0m \u001b[34mical\u001b[0m \u001b[34mSchool\u001b[0m \u001b[34mwas\u001b[0m \u001b[34ma\u001b[0m \u001b[34mthree\u001b[0m \u001b[34m-\u001b[0m \u001b[34mstory\u001b[0m \u001b[34m,\u001b[0m \u001b[34m\u001b[0m \u001b[34m2\u001b[0m \u001b[34m4\u001b[0m \u001b[34m,\u001b[0m \u001b[34m0\u001b[0m \u001b[34m0\u001b[0m \u001b[34m0\u001b[0m \u001b[34m-\u001b[0m \u001b[34msquare\u001b[0m \u001b[34m-\u001b[0m \u001b[34mfoot\u001b[0m \u001b[34mbuilding\u001b[0m \u001b[34m,\u001b[0m \u001b[34mwhich\u001b[0m \u001b[34mwas\u001b[0m \u001b[34mconstructed\u001b[0m \u001b[34mon\u001b[0m \u001b[34ma\u001b[0m \u001b[34mhill\u001b[0m \u001b[34mtop\u001b[0m \u001b[34mat\u001b[0m \u001b[34mthe\u001b[0m \u001b[34mcorner\u001b[0m \u001b[34mof\u001b[0m \u001b[34mFif\u001b[0m \u001b[34mth\u001b[0m \u001b[34mAvenue\u001b[0m \u001b[34mand\u001b[0m \u001b[34mMore\u001b[0m \u001b[34mwood\u001b[0m \u001b[34mStreet\u001b[0m \u001b[34m.\u001b[0m \u001b[34m\n",
      "\u001b[0m \u001b[34m\n",
      "\u001b[0m \u001b[34mThe\u001b[0m \u001b[34mCar\u001b[0m \u001b[34mneg\u001b[0m \u001b[34mie\u001b[0m \u001b[34mTechn\u001b[0m \u001b[34mical\u001b[0m \u001b[34mSchool\u001b[0m \u001b[34mwas\u001b[0m \u001b[34mhome\u001b[0m \u001b[34mto\u001b[0m \u001b[34mthe\u001b[0m \u001b[34mdepart\u001b[0m \u001b[34mments\u001b[0m \u001b[34mof\u001b[0m \u001b[34mchemical\u001b[0m \u001b[34mengineering\u001b[0m \u001b[34m,\u001b[0m \u001b[34mmechanical\u001b[0m \u001b[34mengineering\u001b[0m \u001b[34m,\u001b[0m \u001b[34mand\u001b[0m \u001b[34melect\u001b[0m \u001b[34mrical\u001b[0m \u001b[34mengineering\u001b[0m \u001b[34m.\u001b[0m \u001b[34m\n",
      "\u001b[0m \u001b[34m\n",
      "\u001b[0m \u001b[34mThe\u001b[0m \u001b[34mCar\u001b[0m \u001b[34mneg\u001b[0m \u001b[34mie\u001b[0m \u001b[34mTechn\u001b[0m \u001b[34mical\u001b[0m \u001b[34mSchool\u001b[0m \u001b[34mwas\u001b[0m \u001b[34mbuilt\u001b[0m \u001b[34mwith\u001b[0m \u001b[34ma\u001b[0m \u001b[34mBe\u001b[0m \u001b[34maux\u001b[0m \u001b[34m-\u001b[0m \u001b[34mAr\u001b[0m \u001b[34mts\u001b[0m \u001b[34mdesign\u001b[0m \u001b[34m,\u001b[0m \u001b[34mwith\u001b[0m \u001b[34ma\u001b[0m \u001b[34mcentral\u001b[0m \u001b[34mcour\u001b[0m \u001b[34mty\u001b[0m \u001b[34mard\u001b[0m \u001b[34msurrounded\u001b[0m \u001b[34mby\u001b[0m \u001b[34ma\u001b[0m \u001b[34mseries\u001b[0m \u001b[34mof\u001b[0m \u001b[34marc\u001b[0m \u001b[34mades\u001b[0m \u001b[34m.\u001b[0m \u001b[34m\n",
      "\u001b[0m \u001b[34m\n",
      "\u001b[0m \u001b[34mThe\u001b[0m \u001b[34mCar\u001b[0m \u001b[34mneg\u001b[0m \u001b[34mie\u001b[0m \u001b[34mTechn\u001b[0m \u001b[34mical\u001b[0m \u001b[34mSchool\u001b[0m \u001b[34mwas\u001b[0m \u001b[34mdemol\u001b[0m \u001b[34mished\u001b[0m \u001b[34min\u001b[0m \u001b[34m\u001b[0m \u001b[34m1\u001b[0m \u001b[34m9\u001b[0m \u001b[34m3\u001b[0m \u001b[34m6\u001b[0m \u001b[34m,\u001b[0m \u001b[34mand\u001b[0m \u001b[34mthe\u001b[0m \u001b[34msite\u001b[0m \u001b[34mis\u001b[0m \u001b[34mnow\u001b[0m \u001b[34moccupied\u001b[0m \u001b[34mby\u001b[0m \u001b[34mthe\u001b[0m \u001b[34mPos\u001b[0m \u001b[34mner\u001b[0m \u001b[34mCenter\u001b[0m \u001b[34mfor\u001b[0m \u001b[34mInternational\u001b[0m \u001b[34mBusiness\u001b[0m \u001b[34m.\u001b[0m \u001b[34m\n",
      "\u001b[0m \u001b[34m\n",
      "\u001b[0m \u001b[34m\n",
      "\u001b[0m \u001b[34m#\u001b[0m \u001b[34mTechn\u001b[0m \u001b[34mical\u001b[0m \u001b[34mSchool\u001b[0m \u001b[34m\n",
      "\u001b[0m \u001b[34m\n",
      "\u001b[0m \u001b[34mThe\u001b[0m \u001b[34mCar\u001b[0m \u001b[34mneg\u001b[0m \u001b[34mie\u001b[0m \u001b[34mTechn\u001b[0m \u001b[34mical\u001b[0m \u001b[34mSchool\u001b[0m \u001b[34mwas\u001b[0m \u001b[34mreplaced\u001b[0m \u001b[34mby\u001b[0m \u001b[34mthe\u001b[0m \u001b[34mCar\u001b[0m \u001b[34mneg\u001b[0m \u001b[34mie\u001b[0m \u001b[34mTechn\u001b[0m \u001b[34mical\u001b[0m \u001b[34mSchool\u001b[0m \u001b[34mBuilding\u001b[0m \u001b[34m,\u001b[0m \u001b[34mwhich\u001b[0m \u001b[34mwas\u001b[0m \u001b[34mcompleted\u001b[0m \u001b[34min\u001b[0m \u001b[34m\u001b[0m \u001b[34m1\u001b[0m \u001b[34m9\u001b[0m \u001b[34m0\u001b[0m \u001b[34m7\u001b[0m \u001b[34m.\u001b[0m \u001b[34m\n",
      "\u001b[0m \u001b[34m\n",
      "\u001b[0m \u001b[34mThe\u001b[0m \u001b[34mCar\u001b[0m \u001b[34mneg\u001b[0m \u001b[34mie\u001b[0m \u001b[34mTechn\u001b[0m \u001b[34mical\u001b[0m \u001b[34mSchool\u001b[0m \u001b[34mBuilding\u001b[0m \u001b[34mwas\u001b[0m \u001b[34ma\u001b[0m \u001b[34m\u001b[0m \u001b[34m1\u001b[0m \u001b[34m0\u001b[0m \u001b[34m-\u001b[0m \u001b[34mstory\u001b[0m \u001b[34m,\u001b[0m \u001b[34m\u001b[0m \u001b[34m3\u001b[0m \u001b[34m2\u001b[0m \u001b[34m0\u001b[0m \u001b[34m,\u001b[0m \u001b[34m0\u001b[0m \u001b[34m0\u001b[0m \u001b[34m-\u001b[0m \u001b[34msquare\u001b[0m \u001b[34m-\u001b[0m \u001b[34mfoot\u001b[0m \u001b[34mbuilding\u001b[0m \u001b[34m,\u001b[0m \u001b[34mwhich\u001b[0m \u001b[34mwas\u001b[0m \u001b[34mbuilt\u001b[0m \u001b[34mon\u001b[0m \u001b[34ma\u001b[0m \u001b[34mhill\u001b[0m \u001b[34mtop\u001b[0m \u001b[34mat\u001b[0m \u001b[34mthe\u001b[0m \u001b[34mcorner\u001b[0m \u001b[34mof\u001b[0m \u001b[34mFif\u001b[0m \u001b[34mth\u001b[0m \u001b[34mAvenue\u001b[0m \u001b[34mand\u001b[0m \u001b[34mMore\u001b[0m \u001b[34mwood\u001b[0m \u001b[34mStreet\u001b[0m \u001b[34m.\u001b[0m \u001b[34m\n",
      "\u001b[0m \u001b[34m\n",
      "\u001b[0m \u001b[34mThe\u001b[0m \u001b[34mCar\u001b[0m \u001b[34mneg\u001b[0m \u001b[34mie\u001b[0m \u001b[34mTechn\u001b[0m \u001b[34mical\u001b[0m \u001b[34mSchool\u001b[0m \u001b[34mBuilding\u001b[0m \u001b[34mwas\u001b[0m \u001b[34mhome\u001b[0m \u001b[34mto\u001b[0m \u001b[34mthe\u001b[0m \u001b[34mdepart\u001b[0m \u001b[34mments\u001b[0m \u001b[34mof\u001b[0m \u001b[34mchem\u001b[0m \u001b[34mistry\u001b[0m \u001b[34m,\u001b[0m \u001b[34mphysics\u001b[0m \u001b[34m,\u001b[0m \u001b[34mmathematics\u001b[0m \u001b[34m,\u001b[0m \u001b[34mand\u001b[0m \u001b[34meconom\u001b[0m \u001b[34mics\u001b[0m \u001b[34m.\u001b[0m \u001b[34m\n",
      "\u001b[0m \u001b[34m\n",
      "\u001b[0m \u001b[34mThe\u001b[0m \u001b[34mCar\u001b[0m \u001b[34mneg\u001b[0m \u001b[34mie\u001b[0m \u001b[34mTechn\u001b[0m \u001b[34mical\u001b[0m \u001b[34mSchool\u001b[0m \u001b[34mBuilding\u001b[0m \u001b[34mwas\u001b[0m \u001b[34mbuilt\u001b[0m \u001b[34mwith\u001b[0m \u001b[34ma\u001b[0m \u001b[34mBe\u001b[0m \u001b[34maux\u001b[0m \u001b[34m-\u001b[0m \u001b[34mAr\u001b[0m \u001b[34mts\u001b[0m \u001b[34mdesign\u001b[0m \u001b[34m,\u001b[0m \u001b[34mwith\u001b[0m \u001b[34ma\u001b[0m \u001b[34mcentral\u001b[0m \u001b[34mcour\u001b[0m \u001b[34mty\u001b[0m \u001b[34mard\u001b[0m \u001b[34msurrounded\u001b[0m \u001b[34mby\u001b[0m \u001b[34ma\u001b[0m \u001b[34mseries\u001b[0m \u001b[34mof\u001b[0m \u001b[34marc\u001b[0m \u001b[34mades\u001b[0m \u001b[34m.\u001b[0m \u001b[34m\n",
      "\u001b[0m \u001b[34m\n",
      "\u001b[0m \u001b[34mThe\u001b[0m \u001b[34mCar\u001b[0m \u001b[34mneg\u001b[0m \u001b[34mie\u001b[0m \u001b[34mTechn\u001b[0m \u001b[34mical\u001b[0m \u001b[34mSchool\u001b[0m \u001b[34mBuilding\u001b[0m \u001b[34mwas\u001b[0m \u001b[34mdemol\u001b[0m \u001b[34mished\u001b[0m \u001b[34min\u001b[0m \u001b[34m\u001b[0m \u001b[34m1\u001b[0m \u001b[34m9\u001b[0m \u001b[34m8\u001b[0m \u001b[34m6\u001b[0m \u001b[34m,\u001b[0m \u001b[34mand\u001b[0m \u001b[34mthe\u001b[0m \u001b[34msite\u001b[0m \u001b[34mis\u001b[0m \u001b[34mnow\u001b[0m \u001b[34moccupied\u001b[0m \u001b[34mby\u001b[0m \u001b[34mthe\u001b[0m \u001b[34mCollege\u001b[0m \u001b[34mof\u001b[0m \u001b[34mFine\u001b[0m \u001b[34mArts\u001b[0m \u001b[34mBuilding\u001b[0m \u001b[34m.\u001b[0m \u001b[34m\n",
      "\u001b[0m \u001b[34m\n",
      "\u001b[0m \u001b[34m\n",
      "\u001b[0m \u001b[34m#\u001b[0m \u001b[34mTechn\u001b[0m \u001b[34mical\u001b[0m \u001b[34mSchool\u001b[0m \u001b[34mBuilding\u001b[0m \u001b[34m\n",
      "\u001b[0m \u001b[34m\n",
      "\u001b[0m \u001b[34mThe\u001b[0m \u001b[34mCar\u001b[0m \u001b[34mneg\u001b[0m \u001b[34mie\u001b[0m \u001b[34mTechn\u001b[0m \u001b[34mical\u001b[0m \u001b[34mSchool\u001b[0m \u001b[34mBuilding\u001b[0m \u001b[34mwas\u001b[0m \u001b[34mreplaced\u001b[0m \u001b[34mby\u001b[0m \u001b[34mthe\u001b[0m \u001b[34mCar\u001b[0m \u001b[34mneg\u001b[0m \u001b[34mie\u001b[0m \u001b[34mTechn\u001b[0m \u001b[34mical\u001b[0m \u001b[34mSchool\u001b[0m \u001b[34mBuilding\u001b[0m \u001b[34mII\u001b[0m \u001b[34m,\u001b[0m \u001b[34mwhich\u001b[0m \u001b[34mwas\u001b[0m \u001b[34mcompleted\u001b[0m \u001b[34min\u001b[0m \u001b[34m\u001b[0m \u001b[34m1\u001b[0m \u001b[34m9\u001b[0m \u001b[34m1\u001b[0m \u001b[34m6\u001b[0m \u001b[34m.\u001b[0m \u001b[34m\n",
      "\u001b[0m \u001b[34m\n",
      "\u001b[0m \u001b[34mThe\u001b[0m \u001b[34mCar\u001b[0m \u001b[34mneg\u001b[0m \u001b[34mie\u001b[0m \u001b[34mTechn\u001b[0m \u001b[34mical\u001b[0m \u001b[34mSchool\u001b[0m \u001b[34mBuilding\u001b[0m \u001b[34mII\u001b[0m \u001b[34mwas\u001b[0m \u001b[34ma\u001b[0m \u001b[34m\u001b[0m \u001b[34m1\u001b[0m \u001b[34m2\u001b[0m \u001b[34m-\u001b[0m \u001b[34mstory\u001b[0m \u001b[34m,\u001b[0m \u001b[34m\u001b[0m \u001b[34m5\u001b[0m \u001b[34m0\u001b[0m \u001b[34m0\u001b[0m \u001b[34m,\u001b[0m \u001b[34m0\u001b[0m \u001b[34m0\u001b[0m \u001b[34m-\u001b[0m \u001b[34msquare\u001b[0m \u001b[34m-\u001b[0m \u001b[34mfoot\u001b[0m \u001b[34mbuilding\u001b[0m \u001b[34m,\u001b[0m \u001b[34mwhich\u001b[0m \u001b[34mwas\u001b[0m \u001b[34mbuilt\u001b[0m \u001b[34mon\u001b[0m \u001b[34ma\u001b[0m \u001b[34mhill\u001b[0m \u001b[34mtop\u001b[0m \u001b[34mat\u001b[0m \u001b[34mthe\u001b[0m \u001b[34mcorner\u001b[0m \u001b[34mof\u001b[0m \u001b[34mFif\u001b[0m \u001b[34mth\u001b[0m \u001b[34mAvenue\u001b[0m \u001b[34mand\u001b[0m \u001b[34mMore\u001b[0m \u001b[34mwood\u001b[0m \u001b[34mStreet\u001b[0m \u001b[34m.\u001b[0m \u001b[34m\n",
      "\u001b[0m \u001b[34m\n",
      "\u001b[0m \u001b[34mThe\u001b[0m \u001b[34mCar\u001b[0m \u001b[34mneg\u001b[0m \u001b[34mie\u001b[0m \u001b[34mTechn\u001b[0m "
     ]
    }
   ],
   "source": [
    "from utils.sampling import norm_logits, sample\n",
    "from utils.misc import spec_stream\n",
    "next_token = sample(norm_logits(outputs_draft.logits[:,-1,:], temperature=0.8 ,top_k=-1, top_p=0.9))\n",
    "\n",
    "with torch.inference_mode():\n",
    "    for i in range(1000):\n",
    "        draft_cache.evict(1)\n",
    "        outputs_draft = draft(\n",
    "            input_ids=next_token.to(draft.device),\n",
    "            past_key_values=draft_cache,\n",
    "        )\n",
    "        assert outputs_draft.logits.shape == (1, 1, 32000)\n",
    "        next_token = sample(norm_logits(outputs_draft.logits[:,-1,:], temperature=0.8 ,top_k=-1, top_p=0.9))\n",
    "        spec_stream(next_token[0], tokenizer)"
   ]
  },
  {
   "cell_type": "code",
   "execution_count": 26,
   "metadata": {},
   "outputs": [
    {
     "data": {
      "text/plain": [
       "torch.Size([1, 32, 1000, 128])"
      ]
     },
     "execution_count": 26,
     "metadata": {},
     "output_type": "execute_result"
    }
   ],
   "source": [
    "a = draft_cache.key_cache[0].clone()\n",
    "a.shape"
   ]
  },
  {
   "cell_type": "code",
   "execution_count": null,
   "metadata": {},
   "outputs": [],
   "source": [
    "# create grid search scripts\n",
    "\n",
    "draft_list = ['llama-68M-align']\n",
    "gamma_list = [4,5,6,7,8]\n",
    "chunk_size_list = [2,3,4,5,6,8,10,12,15,16,24,32,48,64]\n",
    "budget_list = [0.05, 0.0475, 0.045, 0.0425, 0.04, 0.0375, 0.035, 0.033, 0.03]\n",
    "\n",
    "for draft in draft_list:\n",
    "    for gamma in gamma_list:\n",
    "        for chunk_size in chunk_size_list:\n",
    "            for budget in budget_list:\n",
    "                template = f\"CUDA_VISIBLE_DEVICES=0 python test/e2e_graph_chain_retrieval.py --log_csv --draft {draft} --gamma {gamma} --chunk_size {chunk_size} --budget {budget} --prefill 122880 --dataset gs\"\n",
    "                print(template)"
   ]
  },
  {
   "cell_type": "code",
   "execution_count": 8,
   "metadata": {},
   "outputs": [
    {
     "data": {
      "text/html": [
       "<div>\n",
       "<style scoped>\n",
       "    .dataframe tbody tr th:only-of-type {\n",
       "        vertical-align: middle;\n",
       "    }\n",
       "\n",
       "    .dataframe tbody tr th {\n",
       "        vertical-align: top;\n",
       "    }\n",
       "\n",
       "    .dataframe thead th {\n",
       "        text-align: right;\n",
       "    }\n",
       "</style>\n",
       "<table border=\"1\" class=\"dataframe\">\n",
       "  <thead>\n",
       "    <tr style=\"text-align: right;\">\n",
       "      <th></th>\n",
       "      <th>budget</th>\n",
       "      <th>chunk_size</th>\n",
       "      <th>gamma</th>\n",
       "      <th>token/s</th>\n",
       "    </tr>\n",
       "  </thead>\n",
       "  <tbody>\n",
       "    <tr>\n",
       "      <th>151</th>\n",
       "      <td>0.0350</td>\n",
       "      <td>6</td>\n",
       "      <td>6</td>\n",
       "      <td>42.333985</td>\n",
       "    </tr>\n",
       "    <tr>\n",
       "      <th>538</th>\n",
       "      <td>0.0500</td>\n",
       "      <td>8</td>\n",
       "      <td>6</td>\n",
       "      <td>42.316488</td>\n",
       "    </tr>\n",
       "    <tr>\n",
       "      <th>545</th>\n",
       "      <td>0.0500</td>\n",
       "      <td>10</td>\n",
       "      <td>8</td>\n",
       "      <td>42.214505</td>\n",
       "    </tr>\n",
       "    <tr>\n",
       "      <th>365</th>\n",
       "      <td>0.0425</td>\n",
       "      <td>16</td>\n",
       "      <td>6</td>\n",
       "      <td>41.994353</td>\n",
       "    </tr>\n",
       "    <tr>\n",
       "      <th>366</th>\n",
       "      <td>0.0425</td>\n",
       "      <td>16</td>\n",
       "      <td>7</td>\n",
       "      <td>41.961542</td>\n",
       "    </tr>\n",
       "    <tr>\n",
       "      <th>...</th>\n",
       "      <td>...</td>\n",
       "      <td>...</td>\n",
       "      <td>...</td>\n",
       "      <td>...</td>\n",
       "    </tr>\n",
       "    <tr>\n",
       "      <th>3</th>\n",
       "      <td>0.0300</td>\n",
       "      <td>2</td>\n",
       "      <td>7</td>\n",
       "      <td>33.547048</td>\n",
       "    </tr>\n",
       "    <tr>\n",
       "      <th>261</th>\n",
       "      <td>0.0400</td>\n",
       "      <td>2</td>\n",
       "      <td>8</td>\n",
       "      <td>33.476774</td>\n",
       "    </tr>\n",
       "    <tr>\n",
       "      <th>68</th>\n",
       "      <td>0.0330</td>\n",
       "      <td>2</td>\n",
       "      <td>7</td>\n",
       "      <td>33.365905</td>\n",
       "    </tr>\n",
       "    <tr>\n",
       "      <th>69</th>\n",
       "      <td>0.0330</td>\n",
       "      <td>2</td>\n",
       "      <td>8</td>\n",
       "      <td>31.407150</td>\n",
       "    </tr>\n",
       "    <tr>\n",
       "      <th>4</th>\n",
       "      <td>0.0300</td>\n",
       "      <td>2</td>\n",
       "      <td>8</td>\n",
       "      <td>30.544234</td>\n",
       "    </tr>\n",
       "  </tbody>\n",
       "</table>\n",
       "<p>577 rows × 4 columns</p>\n",
       "</div>"
      ],
      "text/plain": [
       "     budget  chunk_size  gamma    token/s\n",
       "151  0.0350           6      6  42.333985\n",
       "538  0.0500           8      6  42.316488\n",
       "545  0.0500          10      8  42.214505\n",
       "365  0.0425          16      6  41.994353\n",
       "366  0.0425          16      7  41.961542\n",
       "..      ...         ...    ...        ...\n",
       "3    0.0300           2      7  33.547048\n",
       "261  0.0400           2      8  33.476774\n",
       "68   0.0330           2      7  33.365905\n",
       "69   0.0330           2      8  31.407150\n",
       "4    0.0300           2      8  30.544234\n",
       "\n",
       "[577 rows x 4 columns]"
      ]
     },
     "execution_count": 8,
     "metadata": {},
     "output_type": "execute_result"
    }
   ],
   "source": [
    "import pandas as pd\n",
    "\n",
    "# 替换为你的CSV文件路径\n",
    "csv_file_path = '/home/hanshis/workspace/LongContextInfer/test/report/A100_E2E_graph_chain_retrieval.csv'\n",
    "\n",
    "# 读取CSV文件\n",
    "df = pd.read_csv(csv_file_path)\n",
    "# df = df[df['budget'] == 0.033]\n",
    "# 对'a', 'b', 'c', 'd'列组成的组合进行分组，并计算每组'e'的平均值\n",
    "result = df.groupby(['budget','chunk_size','gamma'])['token/s'].mean().reset_index().sort_values(by='token/s', ascending=False)\n",
    "result"
   ]
  },
  {
   "cell_type": "code",
   "execution_count": null,
   "metadata": {},
   "outputs": [],
   "source": []
  }
 ],
 "metadata": {
  "kernelspec": {
   "display_name": "torch",
   "language": "python",
   "name": "python3"
  },
  "language_info": {
   "codemirror_mode": {
    "name": "ipython",
    "version": 3
   },
   "file_extension": ".py",
   "mimetype": "text/x-python",
   "name": "python",
   "nbconvert_exporter": "python",
   "pygments_lexer": "ipython3",
   "version": "3.9.18"
  }
 },
 "nbformat": 4,
 "nbformat_minor": 2
}
